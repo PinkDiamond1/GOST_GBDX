{
 "cells": [
  {
   "cell_type": "markdown",
   "metadata": {},
   "source": [
    "# Spatial Features - finding imagery\n",
    "\n",
    "Spatial features (spfeas) is a landcover classification tool focused on leveraging imagery textures for classifying landcover. It has been used in the World Bank for both quantifying informal housing and estimating poverty\n",
    "\n",
    "Running spatial features is a 5 part process:\n",
    "\n",
    "0. Setting up gbdx for spatial features\n",
    "1. **Finding imagery**\n",
    "2. Runnning spfeas\n",
    "3. Downloading results from AWS\n",
    "4. Stacking results\n",
    "5. Running classification\n",
    "\n",
    "### Finding appropriate imagery\n",
    "Finding appropriate imagery for the analysis is a two part process. First, this script will search for imagery and generate a CSV of imagery options. Second, the csv and the AOI need to be compared in order to select the best coverage overlay (QGIS is best for this)."
   ]
  },
  {
   "cell_type": "code",
   "execution_count": 2,
   "metadata": {},
   "outputs": [],
   "source": [
    "# Define input datasets\n",
    "#AOI = r\"C:\\Work\\NPL_NYU\\sample_3apr\\sampleShapefile_3apr\\sample.shp\"\n",
    "AOI = r\"C:\\temp\\BDI_Imagery_Keith\\BEN_AOI.shp\"\n",
    "imageryCSV = AOI.replace(\".shp\", \"_imagerySearch.csv\")\n",
    "### I don't know why these are required for the imagery search - I don't think they do anything, but it works, so just leave it\n",
    "outFolder = \"C:/temp\"\n",
    "searchName = \"FUBAR\"\n",
    "\n",
    "cutOffDate = \"1-Jan-05\"  #earliest acceptable date\n",
    "optimalDate = \"30-Apr-19\" #best date\n",
    "maxAcceptableCloud = 100\n",
    "curoffNadir = 90"
   ]
  },
  {
   "cell_type": "code",
   "execution_count": 3,
   "metadata": {},
   "outputs": [
    {
     "ename": "KeyError",
     "evalue": "'access_token'",
     "output_type": "error",
     "traceback": [
      "\u001b[1;31m---------------------------------------------------------------------------\u001b[0m",
      "\u001b[1;31mKeyError\u001b[0m                                  Traceback (most recent call last)",
      "\u001b[1;32m<ipython-input-3-d384614cd4a3>\u001b[0m in \u001b[0;36m<module>\u001b[1;34m()\u001b[0m\n\u001b[0;32m     21\u001b[0m \u001b[0mgbdx\u001b[0m\u001b[1;33m.\u001b[0m\u001b[0ms3\u001b[0m\u001b[1;33m.\u001b[0m\u001b[0minfo\u001b[0m\u001b[1;33m\u001b[0m\u001b[0m\n\u001b[0;32m     22\u001b[0m \u001b[0mcurTasks\u001b[0m \u001b[1;33m=\u001b[0m \u001b[0mgbdxTasks\u001b[0m\u001b[1;33m.\u001b[0m\u001b[0mGOSTTasks\u001b[0m\u001b[1;33m(\u001b[0m\u001b[0mgbdx\u001b[0m\u001b[1;33m)\u001b[0m\u001b[1;33m\u001b[0m\u001b[0m\n\u001b[1;32m---> 23\u001b[1;33m \u001b[0mgbdxUrl\u001b[0m \u001b[1;33m=\u001b[0m \u001b[0mgbdxURL_misc\u001b[0m\u001b[1;33m.\u001b[0m\u001b[0mgbdxURL\u001b[0m\u001b[1;33m(\u001b[0m\u001b[0mgbdx\u001b[0m\u001b[1;33m)\u001b[0m\u001b[1;33m\u001b[0m\u001b[0m\n\u001b[0m\u001b[0;32m     24\u001b[0m \u001b[0mimportlib\u001b[0m\u001b[1;33m.\u001b[0m\u001b[0mreload\u001b[0m\u001b[1;33m(\u001b[0m\u001b[0mimagery_search\u001b[0m\u001b[1;33m)\u001b[0m\u001b[1;33m\u001b[0m\u001b[0m\n",
      "\u001b[1;32mC:\\Work\\Code\\GOST_GBDX\\GOST_GBDx_Tools\\gbdxURL_misc.py\u001b[0m in \u001b[0;36m__init__\u001b[1;34m(self, gbdx, wbgComp)\u001b[0m\n\u001b[0;32m     33\u001b[0m         \u001b[0mresultsBearer\u001b[0m \u001b[1;33m=\u001b[0m \u001b[0mrequests\u001b[0m\u001b[1;33m.\u001b[0m\u001b[0mpost\u001b[0m\u001b[1;33m(\u001b[0m\u001b[0murl\u001b[0m\u001b[1;33m,\u001b[0m \u001b[0mheaders\u001b[0m\u001b[1;33m=\u001b[0m\u001b[0mheaders\u001b[0m\u001b[1;33m,\u001b[0m \u001b[0mdata\u001b[0m\u001b[1;33m=\u001b[0m\u001b[0mparams\u001b[0m\u001b[1;33m)\u001b[0m\u001b[1;33m\u001b[0m\u001b[0m\n\u001b[0;32m     34\u001b[0m \u001b[1;33m\u001b[0m\u001b[0m\n\u001b[1;32m---> 35\u001b[1;33m         \u001b[0mself\u001b[0m\u001b[1;33m.\u001b[0m\u001b[0maccess_token\u001b[0m \u001b[1;33m=\u001b[0m \u001b[0mresultsBearer\u001b[0m\u001b[1;33m.\u001b[0m\u001b[0mjson\u001b[0m\u001b[1;33m(\u001b[0m\u001b[1;33m)\u001b[0m\u001b[1;33m[\u001b[0m\u001b[1;34m'access_token'\u001b[0m\u001b[1;33m]\u001b[0m\u001b[1;33m\u001b[0m\u001b[0m\n\u001b[0m\u001b[0;32m     36\u001b[0m         \u001b[0mself\u001b[0m\u001b[1;33m.\u001b[0m\u001b[0mawsCommand\u001b[0m \u001b[1;33m=\u001b[0m \u001b[1;34m'aws'\u001b[0m\u001b[1;33m\u001b[0m\u001b[0m\n\u001b[0;32m     37\u001b[0m         \u001b[0mself\u001b[0m\u001b[1;33m.\u001b[0m\u001b[0mgenerateAWSkeys\u001b[0m\u001b[1;33m(\u001b[0m\u001b[1;33m)\u001b[0m\u001b[1;33m\u001b[0m\u001b[0m\n",
      "\u001b[1;31mKeyError\u001b[0m: 'access_token'"
     ]
    }
   ],
   "source": [
    "import sys, os, inspect, importlib\n",
    "import pandas as pd\n",
    "import geopandas as gpd\n",
    "\n",
    "from gbdxtools import Interface\n",
    "from gbdxtools import CatalogImage\n",
    "from shapely.geometry import box\n",
    "\n",
    "cmd_folder = os.path.dirname(os.getcwd())\n",
    "if cmd_folder not in sys.path:\n",
    "    sys.path.insert(0, cmd_folder)\n",
    "\n",
    "from GOST_GBDx_Tools import gbdxTasks\n",
    "from GOST_GBDx_Tools import gbdxURL_misc\n",
    "from GOST_GBDx_Tools import imagery_search\n",
    "\n",
    "#In order for the interface to be properly authenticated, follow instructions here:\n",
    "#   http://gbdxtools.readthedocs.io/en/latest/user_guide.html\n",
    "#   For Ben, the .gbdx-config file belongs in C:\\Users\\WB411133 (CAUSE no one else qill f%*$&ing tell you that)\n",
    "gbdx = Interface()\n",
    "gbdx.s3.info\n",
    "curTasks = gbdxTasks.GOSTTasks(gbdx)\n",
    "gbdxUrl = gbdxURL_misc.gbdxURL(gbdx)\n",
    "importlib.reload(imagery_search)"
   ]
  },
  {
   "cell_type": "code",
   "execution_count": 11,
   "metadata": {},
   "outputs": [
    {
     "data": {
      "text/plain": [
       "{'access_token': 'eyJ0eXAiOiJKV1QiLCJhbGciOiJSUzI1NiIsImtpZCI6Ik1Ea3hPREE1UTBFeFJUTXpOek01UlVSRE5qWTRRelpHT1ROR1FUWTBNMFJHTnpjMFEwTTFSZyJ9.eyJodHRwczovL2dlb2JpZ2RhdGEuaW8vYWNjb3VudF9sZXZlbCI6ImJhc2ljIiwiaHR0cHM6Ly9nZW9iaWdkYXRhLmlvL2lkIjoiMGVmYjg0MzAtMmQwNi00MmFmLThmNTUtODdhZmVmNTA4ZWE4IiwiaHR0cHM6Ly9nZW9iaWdkYXRhLmlvL2FjY291bnRfaWQiOiIxYzA4MGU5Yy0wMmNjLTRlMmUtYThhMi1iZjA1YjgzNjllZWUiLCJodHRwczovL2dlb2JpZ2RhdGEuaW8vcm9sZXMiOlsidXNlciJdLCJodHRwczovL2dlb2JpZ2RhdGEuaW8vZW1haWwiOiJic3Rld2FydEB3b3JsZGJhbmsub3JnIiwiaXNzIjoiaHR0cHM6Ly9kaWdpdGFsZ2xvYmUtcHJvZHVjdGlvbi5hdXRoMC5jb20vIiwic3ViIjoiYXV0aDB8Z2JkeHwyMzc3MyIsImF1ZCI6WyJnZW9iaWdkYXRhLmlvIiwiaHR0cHM6Ly9kaWdpdGFsZ2xvYmUtcHJvZHVjdGlvbi5hdXRoMC5jb20vdXNlcmluZm8iXSwiaWF0IjoxNTYwNzU3NDYxLCJleHAiOjE1NjEzNjIyNjEsImF6cCI6ImRieFU1Y1pka08wU0hUbXNoRkNXbkk4OTR2eFExTmJ6Iiwic2NvcGUiOiJvcGVuaWQgZW1haWwgb2ZmbGluZV9hY2Nlc3MiLCJndHkiOiJwYXNzd29yZCJ9.wDGAEeSV9GrgSnxJdlm2wh5AEq6Hf4NoQf9YuNXTyrDGOrCw2byb1ENu6-wblF_KyXrkALO5KyM_nS2rTA_WT4u7EHzWrttELMrB0O6nBolinsVbNMBRD6o7GwsycQj2oMpRwvbSu9eJl2OTykyonti1SE4CC6FYfVI7HLYIo95yw_-md_SAe5ZqDIJ9mr8Kp02IkHDZtppyISwCpc-wOzFFMI_d2ZLAC3DUrAUKdf6K7zitflDtlLuDiNAx0W6I9YueN_eNPrAMB_HN5_zHg_nkgeOITtgj8CVHrX8zME9keLedAOP4K5Wkyl2Jd11EmmcxzoNhx4J6UzlqJBH_Iw',\n",
       " 'expires_in': 604800,\n",
       " 'refresh_token': 'E5i3oVUqzUrO2MmfFO5eWJtczBOL43QoxEEkCvVrdJQ61',\n",
       " 'scope': 'openid email offline_access',\n",
       " 'token_type': 'Bearer'}"
      ]
     },
     "execution_count": 11,
     "metadata": {},
     "output_type": "execute_result"
    }
   ],
   "source": [
    "import configparser, requests\n",
    "\n",
    "gbdxConfigFile = os.path.join(os.path.expanduser('~'), \".gbdx-config\")\n",
    "config = configparser.RawConfigParser()  \n",
    "''' This part doesn't work in 3.6\n",
    "with open(gbdxConfigFile) as f:\n",
    "    sample_config = f.read()\n",
    "config.readfp(io.BytesIO(sample_config))\n",
    "'''\n",
    "config.read(gbdxConfigFile)\n",
    "username = config.get('gbdx','user_name')\n",
    "password = config.get('gbdx','user_password')\n",
    "client_id = gbdx.s3.info['S3_access_key']\n",
    "secret_key = gbdx.s3.info['S3_secret_key']\n",
    "\n",
    "url = 'https://geobigdata.io/auth/v1/oauth/token/'\n",
    "headers = {\"Authorization\": \"Basic %s\" % client_id, \"Content-Type\": \"application/x-www-form-urlencoded\"}\n",
    "params = {\"grant_type\": \"password\", \"username\": username, \"password\": password }\n",
    "resultsBearer = requests.post(url, headers=headers, data=params)\n",
    "resultsBearer.json()\n",
    "\n"
   ]
  },
  {
   "cell_type": "code",
   "execution_count": 10,
   "metadata": {},
   "outputs": [
    {
     "data": {
      "text/plain": [
       "{'message': 'Unauthorized'}"
      ]
     },
     "execution_count": 10,
     "metadata": {},
     "output_type": "execute_result"
    }
   ],
   "source": []
  },
  {
   "cell_type": "code",
   "execution_count": 3,
   "metadata": {},
   "outputs": [],
   "source": [
    "#Read in viirsExtents if necessary\n",
    "from shapely.wkt import loads\n",
    "viirsExtents = r\"C:\\Work\\SouthSudan\\VIIRS_2015_extents.csv\"\n",
    "allDissNamed = pd.read_csv(viirsExtents)\n",
    "allDissNamed['geometry'] = allDissNamed['geometry'].apply(lambda x: loads(x))\n",
    "allDissNamed = gpd.GeoDataFrame(allDissNamed, geometry='geometry')\n",
    "allDissNamed.crs = {'init': u'epsg:4326'}\n",
    "inS = allDissNamed\n",
    "imageryCSV = viirsExtents.replace(\".csv\", \"_imagerySearch.csv\")\n",
    "#inS = gpd.read_file(AOI)\n",
    "#inS = inS.to_crs({'init': u'epsg:4326'})\n",
    "#curWKT = inS['geometry']"
   ]
  },
  {
   "cell_type": "code",
   "execution_count": null,
   "metadata": {
    "scrolled": true
   },
   "outputs": [],
   "source": [
    "for idx, row in inS.iterrows():\n",
    "    imageryCSV = AOI.replace(\".shp\", \"_imagerySearch_%s.csv\" % idx)\n",
    "    curWKT = row['geometry']\n",
    "    curRes = imagery_search.searchForImages(gbdx, curWKT, outFolder, searchName, \n",
    "                    cutoff_date=cutOffDate, optimal_date=optimalDate,\n",
    "                    cutoff_cloud_cover = maxAcceptableCloud, cutoff_nadir = curoffNadir,imageType='*')\n",
    "    try:\n",
    "        final = final.append(curRes)\n",
    "    except:\n",
    "        final = curRes"
   ]
  },
  {
   "cell_type": "code",
   "execution_count": null,
   "metadata": {},
   "outputs": [],
   "source": [
    "imageryCSV = AOI.replace(\".shp\", \"_imagerySearch.csv\")\n",
    "imageryCSV = viirsExtents.replace(\".csv\", \"_imagerySearch.csv\")\n",
    "final2 = final[~final.duplicated(['ID'])]\n",
    "final2.to_csv(imageryCSV)"
   ]
  },
  {
   "cell_type": "code",
   "execution_count": null,
   "metadata": {},
   "outputs": [],
   "source": [
    "final2 = pd.read_csv(imageryCSV)\n"
   ]
  },
  {
   "cell_type": "code",
   "execution_count": 15,
   "metadata": {},
   "outputs": [],
   "source": [
    "from shapely.wkt import loads\n",
    "final2['geometry'] = final2['Full_scene_WKT'].apply(loads)\n",
    "final2 = gpd.GeoDataFrame(final2, geometry='geometry')\n",
    "final2.crs = {'init': 'epsg:4326'}"
   ]
  },
  {
   "cell_type": "code",
   "execution_count": 18,
   "metadata": {},
   "outputs": [],
   "source": [
    "\n",
    "\n",
    "def getImages(x, inD):\n",
    "    ''' kind of like a select by intersection.\n",
    "    \n",
    "    INPUT\n",
    "    x [shapely geometry]\n",
    "    inD [geopandas dataframe]\n",
    "    RETURNS\n",
    "    [geopandas dataframe]    \n",
    "    '''    \n",
    "    return(inD[inD.intersects(x)])\n",
    "    \n",
    "xx = inS['geometry'].apply(lambda x: getImages(x, final2))"
   ]
  },
  {
   "cell_type": "code",
   "execution_count": 37,
   "metadata": {},
   "outputs": [],
   "source": [
    "#Prepare list of images that would work for LULC task\n",
    "allVals = []\n",
    "for x in xx:\n",
    "    # limit to Worldview 2 and Worldview3\n",
    "    x = x[x['ImageBands'] == \"PAN_MS1_MS2\"]\n",
    "    # Eliminate images with low overlap\n",
    "    x = x[x['Overlap_%'] > 25]\n",
    "    x = x.sort_values('Date')\n",
    "    oldest = x.iloc[0]\n",
    "    newest = x.iloc[x.shape[0]-1]\n",
    "    allVals.append([oldest['ID'], oldest['Date'], newest['ID'], newest['Date']])\n",
    "selectImages = pd.DataFrame(allVals, columns=['ID_old', 'Date_old', 'ID_new', 'Date_new'])\n",
    "allImages = selectImages['ID_old'] + selectImages['ID_new']"
   ]
  },
  {
   "cell_type": "code",
   "execution_count": 40,
   "metadata": {},
   "outputs": [],
   "source": [
    "inSjoin = inS.join(selectImages)\n",
    "allImages = selectImages['ID_old'] + selectImages['ID_new']"
   ]
  },
  {
   "cell_type": "code",
   "execution_count": 46,
   "metadata": {},
   "outputs": [],
   "source": [
    "allImages = {}\n",
    "for oldI in selectImages['ID_new']:#selectImages['ID_old']:\n",
    "    try:\n",
    "        curImg = CatalogImage(oldI)\n",
    "        allImages[oldI] = curImg\n",
    "    except:\n",
    "        gbdx.ordering.status(gbdx.ordering.order(oldI))\n",
    "\n",
    "for oldI in selectImages['ID_old']:\n",
    "    try:\n",
    "        curImg = CatalogImage(oldI)\n",
    "        allImages[oldI] = curImg\n",
    "    except:\n",
    "        gbdx.ordering.status(gbdx.ordering.order(oldI))"
   ]
  },
  {
   "cell_type": "code",
   "execution_count": 47,
   "metadata": {},
   "outputs": [
    {
     "data": {
      "text/plain": [
       "30"
      ]
     },
     "execution_count": 47,
     "metadata": {},
     "output_type": "execute_result"
    }
   ],
   "source": []
  },
  {
   "cell_type": "code",
   "execution_count": 48,
   "metadata": {},
   "outputs": [
    {
     "data": {
      "text/plain": [
       "dict_keys(['103001008D773700', '10300100863EFD00', '103001008D6BD100', '104001003F5F2200', '104001004D887A00', '103001008D790500', '103001005497A300', '1030010009114900', '103001008DBE7700', '1030010090117200', '1030010077B27800', '10400100499F9800', '103001000A6D8800', '103001009180B900', '103001008DC6BB00', '104001004B7F4200', '1040010047AFEA00', '1040010049C94E00', '10300100919C0100', '10300100928F9700', '1030010091BE2700', '103001000762F500', '1040010049690500', '103001007856A100', '103001000B912F00', '1030010011C37B00', '104001004A78A100', '103001008E1EB400', '103001008D9BA200', '103001008F7ABF00'])"
      ]
     },
     "execution_count": 48,
     "metadata": {},
     "output_type": "execute_result"
    }
   ],
   "source": []
  },
  {
   "cell_type": "code",
   "execution_count": null,
   "metadata": {},
   "outputs": [],
   "source": []
  }
 ],
 "metadata": {
  "kernelspec": {
   "display_name": "Python 3",
   "language": "python",
   "name": "python3"
  },
  "language_info": {
   "codemirror_mode": {
    "name": "ipython",
    "version": 3
   },
   "file_extension": ".py",
   "mimetype": "text/x-python",
   "name": "python",
   "nbconvert_exporter": "python",
   "pygments_lexer": "ipython3",
   "version": "3.5.6"
  }
 },
 "nbformat": 4,
 "nbformat_minor": 2
}
