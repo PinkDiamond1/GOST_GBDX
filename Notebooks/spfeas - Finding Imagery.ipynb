{
 "cells": [
  {
   "cell_type": "markdown",
   "metadata": {},
   "source": [
    "# Spatial Features - finding imagery\n",
    "\n",
    "Spatial features (spfeas) is a landcover classification tool focused on leveraging imagery textures for classifying landcover. It has been used in the World Bank for both quantifying informal housing and estimating poverty\n",
    "\n",
    "Running spatial features is a 5 part process:\n",
    "\n",
    "0. Setting up gbdx for spatial features\n",
    "1. **Finding imagery**\n",
    "2. Runnning spfeas\n",
    "3. Downloading results from AWS\n",
    "4. Stacking results\n",
    "5. Running classification\n",
    "\n",
    "### Finding appropriate imagery\n",
    "Finding appropriate imagery for the analysis is a two part process. First, this script will search for imagery and generate a CSV of imagery options. Second, the csv and the AOI need to be compared in order to select the best coverage overlay (QGIS is best for this)."
   ]
  },
  {
   "cell_type": "code",
   "execution_count": 1,
   "metadata": {},
   "outputs": [],
   "source": [
    "# Define input datasets\n",
    "AOI = r\"C:\\Work\\NPL_NYU\\sample_3apr\\sampleShapefile_3apr\\sample.shp\"\n",
    "imageryCSV = AOI.replace(\".shp\", \"_imagerySearch.csv\")\n",
    "### I don't know why these are required for the imagery search - I don't think they do anything, but it works, so just leave it\n",
    "outFolder = \"C:/temp\"\n",
    "searchName = \"FUBAR\"\n",
    "\n",
    "cutOffDate = \"1-Jan-05\"  #earliest acceptable date\n",
    "optimalDate = \"30-Apr-19\" #best date\n",
    "maxAcceptableCloud = 100\n",
    "curoffNadir = 90"
   ]
  },
  {
   "cell_type": "code",
   "execution_count": 2,
   "metadata": {},
   "outputs": [
    {
     "data": {
      "text/plain": [
       "<module 'GOST_GBDx_Tools.imagery_search' from 'C:\\\\Work\\\\Code\\\\GOST_GBDX\\\\GOST_GBDx_Tools\\\\imagery_search.py'>"
      ]
     },
     "execution_count": 2,
     "metadata": {},
     "output_type": "execute_result"
    }
   ],
   "source": [
    "import sys, os, inspect, importlib\n",
    "import pandas as pd\n",
    "import geopandas as gpd\n",
    "\n",
    "from gbdxtools import Interface\n",
    "from gbdxtools import CatalogImage\n",
    "from shapely.geometry import box\n",
    "\n",
    "cmd_folder = os.path.dirname(os.getcwd())\n",
    "if cmd_folder not in sys.path:\n",
    "    sys.path.insert(0, cmd_folder)\n",
    "\n",
    "from GOST_GBDx_Tools import gbdxTasks\n",
    "from GOST_GBDx_Tools import gbdxURL_misc\n",
    "from GOST_GBDx_Tools import imagery_search\n",
    "\n",
    "#In order for the interface to be properly authenticated, follow instructions here:\n",
    "#   http://gbdxtools.readthedocs.io/en/latest/user_guide.html\n",
    "#   For Ben, the .gbdx-config file belongs in C:\\Users\\WB411133 (CAUSE no one else qill f%*$&ing tell you that)\n",
    "gbdx = Interface()\n",
    "gbdx.s3.info\n",
    "curTasks = gbdxTasks.GOSTTasks(gbdx)\n",
    "gbdxUrl = gbdxURL_misc.gbdxURL(gbdx)\n",
    "importlib.reload(imagery_search)"
   ]
  },
  {
   "cell_type": "code",
   "execution_count": 5,
   "metadata": {
    "scrolled": true
   },
   "outputs": [
    {
     "name": "stderr",
     "output_type": "stream",
     "text": [
      "C:\\WBG\\Anaconda\\envs\\gbdxtools\\lib\\site-packages\\pandas\\core\\indexing.py:189: SettingWithCopyWarning: \n",
      "A value is trying to be set on a copy of a slice from a DataFrame\n",
      "\n",
      "See the caveats in the documentation: http://pandas.pydata.org/pandas-docs/stable/indexing.html#indexing-view-versus-copy\n",
      "  self._setitem_with_indexer(indexer, value)\n",
      "C:\\Work\\Code\\GOST_GBDX\\GOST_GBDx_Tools\\imagery_search.py:135: SettingWithCopyWarning: \n",
      "A value is trying to be set on a copy of a slice from a DataFrame.\n",
      "Try using .loc[row_indexer,col_indexer] = value instead\n",
      "\n",
      "See the caveats in the documentation: http://pandas.pydata.org/pandas-docs/stable/indexing.html#indexing-view-versus-copy\n",
      "  out_1stcut['points_CC'] = (out_1stcut['CloudCover'])\n",
      "C:\\Work\\Code\\GOST_GBDX\\GOST_GBDx_Tools\\imagery_search.py:138: SettingWithCopyWarning: \n",
      "A value is trying to be set on a copy of a slice from a DataFrame.\n",
      "Try using .loc[row_indexer,col_indexer] = value instead\n",
      "\n",
      "See the caveats in the documentation: http://pandas.pydata.org/pandas-docs/stable/indexing.html#indexing-view-versus-copy\n",
      "  out_1stcut['points_Overlap'] = (100 - out_1stcut['Overlap_%'])\n",
      "C:\\Work\\Code\\GOST_GBDX\\GOST_GBDx_Tools\\imagery_search.py:141: SettingWithCopyWarning: \n",
      "A value is trying to be set on a copy of a slice from a DataFrame.\n",
      "Try using .loc[row_indexer,col_indexer] = value instead\n",
      "\n",
      "See the caveats in the documentation: http://pandas.pydata.org/pandas-docs/stable/indexing.html#indexing-view-versus-copy\n",
      "  out_1stcut['points_Date'] = ((abs(out_1stcut['TS'] - optimal_date)).view('int64') / 60 / 60 / 24 / 1E9) / 7\n",
      "C:\\Work\\Code\\GOST_GBDX\\GOST_GBDx_Tools\\imagery_search.py:144: SettingWithCopyWarning: \n",
      "A value is trying to be set on a copy of a slice from a DataFrame.\n",
      "Try using .loc[row_indexer,col_indexer] = value instead\n",
      "\n",
      "See the caveats in the documentation: http://pandas.pydata.org/pandas-docs/stable/indexing.html#indexing-view-versus-copy\n",
      "  out_1stcut['points_Nadir'] = abs(out_1stcut['OffNadirAngle'] - optimal_nadir)\n",
      "C:\\Work\\Code\\GOST_GBDX\\GOST_GBDx_Tools\\imagery_search.py:147: SettingWithCopyWarning: \n",
      "A value is trying to be set on a copy of a slice from a DataFrame.\n",
      "Try using .loc[row_indexer,col_indexer] = value instead\n",
      "\n",
      "See the caveats in the documentation: http://pandas.pydata.org/pandas-docs/stable/indexing.html#indexing-view-versus-copy\n",
      "  out_1stcut['points_Res'] = (out_1stcut['PanResolution'] - optimal_pan_res).apply(lambda x: max(x,0)) * 100\n",
      "C:\\Work\\Code\\GOST_GBDX\\GOST_GBDx_Tools\\imagery_search.py:162: SettingWithCopyWarning: \n",
      "A value is trying to be set on a copy of a slice from a DataFrame.\n",
      "Try using .loc[row_indexer,col_indexer] = value instead\n",
      "\n",
      "See the caveats in the documentation: http://pandas.pydata.org/pandas-docs/stable/indexing.html#indexing-view-versus-copy\n",
      "  out_1stcut['RankResult'] = Ranker(out_1stcut,pref_weights)\n"
     ]
    }
   ],
   "source": [
    "inS = gpd.read_file(AOI)\n",
    "inS = inS.to_crs({'init': u'epsg:4326'})\n",
    "curWKT = inS['geometry']\n",
    "for idx, row in inS.iterrows():\n",
    "    imageryCSV = AOI.replace(\".shp\", \"_imagerySearch_%s.csv\" % idx)\n",
    "    curWKT = row['geometry']\n",
    "    curRes = imagery_search.searchForImages(gbdx, curWKT, outFolder, searchName, \n",
    "                    cutoff_date=cutOffDate, optimal_date=optimalDate,\n",
    "                    cutoff_cloud_cover = maxAcceptableCloud, cutoff_nadir = curoffNadir,imageType='*')\n",
    "    try:\n",
    "        final = final.append(curRes)\n",
    "    except:\n",
    "        final = curRes"
   ]
  },
  {
   "cell_type": "code",
   "execution_count": 17,
   "metadata": {},
   "outputs": [],
   "source": [
    "imageryCSV = AOI.replace(\".shp\", \"_imagerySearch.csv\")\n",
    "final2 = final[~final.duplicated(['ID'])]\n",
    "final2.to_csv(imageryCSV)"
   ]
  },
  {
   "cell_type": "code",
   "execution_count": 12,
   "metadata": {},
   "outputs": [],
   "source": [
    "\n"
   ]
  },
  {
   "cell_type": "code",
   "execution_count": 16,
   "metadata": {},
   "outputs": [
    {
     "data": {
      "text/plain": [
       "(1106, 25)"
      ]
     },
     "execution_count": 16,
     "metadata": {},
     "output_type": "execute_result"
    }
   ],
   "source": [
    "final.shape"
   ]
  },
  {
   "cell_type": "code",
   "execution_count": null,
   "metadata": {},
   "outputs": [],
   "source": []
  }
 ],
 "metadata": {
  "kernelspec": {
   "display_name": "Python 3",
   "language": "python",
   "name": "python3"
  },
  "language_info": {
   "codemirror_mode": {
    "name": "ipython",
    "version": 3
   },
   "file_extension": ".py",
   "mimetype": "text/x-python",
   "name": "python",
   "nbconvert_exporter": "python",
   "pygments_lexer": "ipython3",
   "version": "3.5.6"
  }
 },
 "nbformat": 4,
 "nbformat_minor": 2
}
