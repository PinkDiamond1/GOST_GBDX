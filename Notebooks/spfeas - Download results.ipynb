{
 "cells": [
  {
   "cell_type": "markdown",
   "metadata": {},
   "source": [
    "# Spatial Features - Download SPFEAS results\n",
    "Spatial features (spfeas) is a landcover classification tool focused on leveraging imagery textures for classifying landcover. It has been used in the World Bank for both quantifying informal housing and estimating poverty\n",
    "\n",
    "Running spatial features is a 5 part process:\n",
    "\n",
    "0. Setting up gbdx for spatial features\n",
    "1. Finding imagery\n",
    "2. Runnning spfeas\n",
    "3. **Downloading results from AWS**\n",
    "4. Stacking results\n",
    "5. Running classification\n",
    "\n",
    "### Downloaded data are HUGE - this should be done on one of the gaming machines, not your personal PC"
   ]
  },
  {
   "cell_type": "code",
   "execution_count": 1,
   "metadata": {},
   "outputs": [],
   "source": [
    "outputFolder = \"D:/Addis/spfeas\"\n",
    "s3Path = \"haiti\" #Set the folder for the output. Found at s3browser.geobigdata.io. ie - bps/Mauritania/Nouakchott\n",
    "s3File = \"C:/Temp/s3Contents.txt\" #This is used for temporary execution\n",
    "s3Exec = \"C:/Temp/s3Contents.bat\"\n",
    "downloadFolder = \"haiti\" # Change to clippedRaster or maybe image to download the base imagery"
   ]
  },
  {
   "cell_type": "code",
   "execution_count": 2,
   "metadata": {},
   "outputs": [],
   "source": [
    "import sys, os, inspect\n",
    "\n",
    "from gbdxtools import Interface\n",
    "from gbdxtools import CatalogImage\n",
    "from shapely.geometry import box\n",
    "\n",
    "cmd_folder = os.path.dirname(os.getcwd())\n",
    "if cmd_folder not in sys.path:\n",
    "    sys.path.insert(0, cmd_folder)\n",
    "\n",
    "from GOST_GBDx_Tools import gbdxTasks\n",
    "from GOST_GBDx_Tools import gbdxURL_misc\n",
    "\n",
    "#In order for the interface to be properly authenticated, follow instructions here:\n",
    "#   http://gbdxtools.readthedocs.io/en/latest/user_guide.html\n",
    "#   For Ben, the .gbdx-config file belongs in C:\\Users\\WB411133 (CAUSE no one else qill f%*$&ing tell you that)\n",
    "gbdx = Interface()\n",
    "gbdx.s3.info\n",
    "curTasks = gbdxTasks.GOSTTasks(gbdx)\n",
    "gbdxUrl = gbdxURL_misc.gbdxURL(gbdx)\n"
   ]
  },
  {
   "cell_type": "code",
   "execution_count": 3,
   "metadata": {},
   "outputs": [],
   "source": [
    "# Get list of ALL files in the defined AWS folder\n",
    "downloadFolder = \"haiti\" \n",
    "xx = gbdxUrl.listS3Contents(\"s3://gbd-customer-data/%s/%s/\" % (gbdxUrl.prefix, s3Path), outFile=s3File)\n",
    "gbdxUrl.executeAWS_file(xx, s3Exec)\n",
    "#It is possible to manually edit the s3File, if you want"
   ]
  },
  {
   "cell_type": "code",
   "execution_count": 7,
   "metadata": {},
   "outputs": [
    {
     "name": "stdout",
     "output_type": "stream",
     "text": [
      "D:/Addis/spfeas\\image/ already exists\n"
     ]
    }
   ],
   "source": [
    "#Download results from s3 file\n",
    "with open(s3File) as inFile:\n",
    "    for f in inFile:\n",
    "        splitFolder = f.split(\" \")\n",
    "        imageName = splitFolder[-1].replace(\"\\n\", \"\")\n",
    "        try:\n",
    "            #Each line in this folder represents a processed image\n",
    "            curFolder = \"s3://gbd-customer-data/%s/%s/%s/%s\" % (gbdxUrl.prefix, s3Path, imageName, downloadFolder)\n",
    "            #Download spfeas Results\n",
    "            curOut = os.path.join(outputFolder, imageName)\n",
    "            try:\n",
    "                os.mkdir(curOut)\n",
    "                xx = gbdxUrl.downloadS3Contents(curFolder, curOut, recursive=True)\n",
    "                gbdxUrl.executeAWS_file(xx,s3Exec)\n",
    "            except:\n",
    "                print(\"%s already exists\" % curOut)\n",
    "        except:\n",
    "            print(\"Error processing %s\" % f)"
   ]
  },
  {
   "cell_type": "code",
   "execution_count": null,
   "metadata": {},
   "outputs": [],
   "source": []
  }
 ],
 "metadata": {
  "kernelspec": {
   "display_name": "Python (gost)",
   "language": "python",
   "name": "gost"
  },
  "language_info": {
   "codemirror_mode": {
    "name": "ipython",
    "version": 3
   },
   "file_extension": ".py",
   "mimetype": "text/x-python",
   "name": "python",
   "nbconvert_exporter": "python",
   "pygments_lexer": "ipython3",
   "version": "3.7.1"
  }
 },
 "nbformat": 4,
 "nbformat_minor": 2
}
