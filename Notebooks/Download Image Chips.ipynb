{
 "cells": [
  {
   "cell_type": "code",
   "execution_count": 1,
   "metadata": {},
   "outputs": [],
   "source": [
    "import sys, os, inspect, logging\n",
    "import awscli\n",
    "import pandas as pd\n",
    "import geopandas as gpd\n",
    "\n",
    "from gbdxtools import Interface\n",
    "from gbdxtools import CatalogImage\n",
    "from shapely.geometry import box\n",
    "\n",
    "cmd_folder = os.path.dirname(os.getcwd())\n",
    "if cmd_folder not in sys.path:\n",
    "    sys.path.insert(0, cmd_folder)\n",
    "\n",
    "from GOST_GBDx_Tools import gbdxTasks\n",
    "from GOST_GBDx_Tools import gbdxURL_misc\n",
    "\n",
    "#In order for the interface to be properly authenticated, follow instructions here:\n",
    "#   http://gbdxtools.readthedocs.io/en/latest/user_guide.html\n",
    "#   For Ben, the .gbdx-config file belongs in C:\\Users\\WB411133 (CAUSE no one else qill f%*$&ing tell you that)\n",
    "gbdx = Interface()\n",
    "gbdx.s3.info\n",
    "curTasks = gbdxTasks.GOSTTasks(gbdx)\n",
    "gbdxUrl = gbdxURL_misc.gbdxURL(gbdx)\n"
   ]
  },
  {
   "cell_type": "code",
   "execution_count": 15,
   "metadata": {},
   "outputs": [
    {
     "name": "stdout",
     "output_type": "stream",
     "text": [
      "[{'acquisition_id': '10300100819D5F00', 'location': 's3://receiving-dgcs-tdgplatform-com/059720460010_01_003', 'state': 'delivered'}]\n",
      "[{'acquisition_id': '1030010050C41000', 'location': 's3://receiving-dgcs-tdgplatform-com/059722695010_01_003', 'state': 'delivered'}]\n",
      "[{'acquisition_id': '104001003EA61600', 'location': 'not_delivered', 'state': 'submitted'}]\n"
     ]
    }
   ],
   "source": [
    "catIDs = ['10300100819D5F00','1030010050C41000','104001003EA61600']\n",
    "for c in catIDs:\n",
    "    print(gbdx.ordering.status(gbdx.ordering.order(c)))"
   ]
  },
  {
   "cell_type": "code",
   "execution_count": 5,
   "metadata": {},
   "outputs": [],
   "source": [
    "#Extract bounds of input images\n",
    "allVals = []\n",
    "for c in catIDs:\n",
    "    img = CatalogImage(c)\n",
    "    allVals.append([c, box(*img.bounds)])"
   ]
  },
  {
   "cell_type": "code",
   "execution_count": 6,
   "metadata": {},
   "outputs": [],
   "source": [
    "res = pd.DataFrame(allVals, columns=['catID','geometry'])\n",
    "res.to_csv(r\"C:\\temp\\BDI_Imagery_Keith\\imageryExtents.csv\")"
   ]
  },
  {
   "cell_type": "code",
   "execution_count": 13,
   "metadata": {},
   "outputs": [
    {
     "data": {
      "text/plain": [
       "0.2770992335696263"
      ]
     },
     "execution_count": 13,
     "metadata": {},
     "output_type": "execute_result"
    }
   ],
   "source": [
    "res['geometry'][0].area"
   ]
  },
  {
   "cell_type": "code",
   "execution_count": 4,
   "metadata": {},
   "outputs": [],
   "source": [
    "inputAOI = gpd.read_file(\"C:/temp/landfill/landfill_site.shp\")"
   ]
  },
  {
   "cell_type": "code",
   "execution_count": 6,
   "metadata": {},
   "outputs": [
    {
     "name": "stderr",
     "output_type": "stream",
     "text": [
      "C:\\WBG\\Anaconda\\envs\\gbdxtools\\lib\\site-packages\\gbdxtools\\images\\worldview.py:68: UserWarning: Unknown dtype\n",
      "  warnings.warn('Unknown dtype')\n"
     ]
    }
   ],
   "source": [
    "tempImg = CatalogImage('102001007C466E00')"
   ]
  },
  {
   "cell_type": "code",
   "execution_count": 13,
   "metadata": {},
   "outputs": [],
   "source": [
    "landfill_image = tempImg.aoi(wkt=str(inputAOI['geometry'].iloc[0]))"
   ]
  },
  {
   "cell_type": "code",
   "execution_count": 18,
   "metadata": {},
   "outputs": [
    {
     "data": {
      "text/plain": [
       "119145987.06337464"
      ]
     },
     "execution_count": 18,
     "metadata": {},
     "output_type": "execute_result"
    }
   ],
   "source": [
    "inputAOI.to_crs({'init': 'epsg:3857'})['geometry'].iloc[0].area"
   ]
  },
  {
   "cell_type": "code",
   "execution_count": 17,
   "metadata": {
    "scrolled": true
   },
   "outputs": [
    {
     "data": {
      "text/plain": [
       "{'init': 'epsg:4326'}"
      ]
     },
     "execution_count": 17,
     "metadata": {},
     "output_type": "execute_result"
    }
   ],
   "source": [
    "inputAOI.crs"
   ]
  },
  {
   "cell_type": "code",
   "execution_count": 19,
   "metadata": {},
   "outputs": [
    {
     "data": {
      "text/html": [
       "\n",
       "       <div id=\"map_1557165207\"/>\n",
       "       <link href='https://openlayers.org/en/v4.6.4/css/ol.css' rel='stylesheet' />\n",
       "       <script src=\"https://cdn.polyfill.io/v2/polyfill.min.js?features=requestAnimationFrame,Element.prototype.classList,URL\"></script>\n",
       "       <style>body{margin:0;padding:0;}#map_1557165207{position:relative;top:0;bottom:0;width:100%;height:400px;}</style>\n",
       "       <style></style>\n",
       "    "
      ],
      "text/plain": [
       "<IPython.core.display.HTML object>"
      ]
     },
     "metadata": {},
     "output_type": "display_data"
    },
    {
     "data": {
      "application/javascript": [
       "\n",
       "        require.config({\n",
       "            paths: {\n",
       "                oljs: 'https://cdnjs.cloudflare.com/ajax/libs/openlayers/4.6.4/ol',\n",
       "                proj4: 'https://cdnjs.cloudflare.com/ajax/libs/proj4js/2.4.4/proj4'\n",
       "            }\n",
       "        });\n",
       "\n",
       "        require(['oljs', 'proj4'], function(oljs, proj4) {\n",
       "            oljs.proj.setProj4(proj4)\n",
       "            var md = {\"sunAzimuth\": 228.9, \"tileXOffset\": 0, \"bandAliases\": [\"P\"], \"dataType\": \"BYTE\", \"version\": 1.1, \"profileName\": \"georectified_image\", \"nativeTileFileFormat\": \"PNG\", \"imageHeight\": 222837, \"colorInterpretation\": \"PAN\", \"satElevation\": 81.2, \"vendorName\": \"DigitalGlobe, Inc.\", \"numBands\": 1, \"maxTileX\": 154, \"sunElevation\": 52.3, \"sensorName\": \"Panchromatic\", \"minY\": 0, \"minX\": 0, \"tileYSize\": 256, \"numYTiles\": 871, \"imageBoundsWGS84\": \"POLYGON ((49.79926913 27.01033026, 49.98031372216673 27.01033026, 49.98031372216673 25.993431266108516, 49.79926913 25.993431266108516, 49.79926913 27.01033026))\", \"imageId\": \"1f3a377f-ade2-499f-9e4b-dc31c50001d8\", \"absoluteCalibrationFactors\": [0.06288518], \"maxX\": 39672, \"sensorAlias\": \"WV01_P\", \"effectiveBandwidths\": [0.372], \"offNadirAngle\": 8.1, \"vendorDatasetIdentifier\": \"LV1B:058476597010_01_P001:102001007C466E00:20200103B9441C00\", \"groundSampleDistanceMeters\": 0.508, \"tileBucketName\": \"rda-images-1\", \"cloudCover\": 0.0, \"oneBResamplingKernel\": \"MTF\", \"tileYOffset\": 0, \"sensorPlatformName\": \"WV01\", \"tileXSize\": 256, \"maxY\": 222836, \"tdiLevels\": [32.0], \"acquisitionDate\": \"2018-09-23T10:22:37.656Z\", \"numXTiles\": 155, \"tilePartition\": \"0000\", \"minTileX\": 0, \"imageWidth\": 39673, \"maxTileY\": 870, \"satAzimuth\": 81.9, \"minTileY\": 0, \"pniirs\": 5.0};\n",
       "            var georef = {\"shearX\": 0.0, \"scaleY\": -4.563420768954366e-06, \"shearY\": 0.0, \"translateY\": 27.01033026, \"translateX\": 49.79926913, \"spatialReferenceSystemCode\": \"EPSG:4326\", \"scaleX\": 4.563420768954366e-06};\n",
       "            var graphId = 'c5cb1b80fe6c214f84391bb7f2408e86d1321dbb6874920f71ecf34005f714f2';\n",
       "            var nodeId = '86bc1ad5-866e-5ff3-bbc6-a6a9dc007f3d';\n",
       "            var extents = [49.79926913, 25.993431266108516, 49.98031372216673, 27.01033026];\n",
       "\n",
       "            var x1 = md.minTileX * md.tileXSize;\n",
       "            var y1 = ((md.minTileY + md.numYTiles) * md.tileYSize + md.tileYSize);\n",
       "            var x2 = ((md.minTileX + md.numXTiles) * md.tileXSize + md.tileXSize);\n",
       "            var y2 = md.minTileY * md.tileYSize;\n",
       "            var tileLayerResolutions = [georef.scaleX];\n",
       "\n",
       "            var url = 'https://rda.geobigdata.io/v1' + '/tile/';\n",
       "            url += graphId + '/' + nodeId;\n",
       "            url += \"/{x}/{y}.png?token=eyJ0eXAiOiJKV1QiLCJhbGciOiJSUzI1NiIsImtpZCI6Ik1Ea3hPREE1UTBFeFJUTXpOek01UlVSRE5qWTRRelpHT1ROR1FUWTBNMFJHTnpjMFEwTTFSZyJ9.eyJodHRwczovL2dlb2JpZ2RhdGEuaW8vYWNjb3VudF9sZXZlbCI6ImJhc2ljIiwiaHR0cHM6Ly9nZW9iaWdkYXRhLmlvL2lkIjoiMGVmYjg0MzAtMmQwNi00MmFmLThmNTUtODdhZmVmNTA4ZWE4IiwiaHR0cHM6Ly9nZW9iaWdkYXRhLmlvL2FjY291bnRfaWQiOiIxYzA4MGU5Yy0wMmNjLTRlMmUtYThhMi1iZjA1YjgzNjllZWUiLCJodHRwczovL2dlb2JpZ2RhdGEuaW8vcm9sZXMiOlsidXNlciJdLCJodHRwczovL2dlb2JpZ2RhdGEuaW8vZW1haWwiOiJic3Rld2FydEB3b3JsZGJhbmsub3JnIiwiaXNzIjoiaHR0cHM6Ly9kaWdpdGFsZ2xvYmUtcHJvZHVjdGlvbi5hdXRoMC5jb20vIiwic3ViIjoiYXV0aDB8Z2JkeHwyMzc3MyIsImF1ZCI6WyJnZW9iaWdkYXRhLmlvIiwiaHR0cHM6Ly9kaWdpdGFsZ2xvYmUtcHJvZHVjdGlvbi5hdXRoMC5jb20vdXNlcmluZm8iXSwiaWF0IjoxNTU3MTY0NzE0LCJleHAiOjE1NTc3Njk1MTQsImF6cCI6ImRieFU1Y1pka08wU0hUbXNoRkNXbkk4OTR2eFExTmJ6Iiwic2NvcGUiOiJvcGVuaWQgZW1haWwgb2ZmbGluZV9hY2Nlc3MiLCJndHkiOlsicmVmcmVzaF90b2tlbiIsInBhc3N3b3JkIl19.cgptFcYNHYVvPGYCpk1QXqq-cXVCnXBfhcncTiPGK5Yccz0DNLfvGi0DqK8-DLKnZK_WNHNRD12HKGPUVnWkCrza7rR5Qdo2yX1hAw42pz7B03UpsXqd9s6Y3OH4WNEYjRsuL6Moj1Q16TGdp17PiUF1rm1J7PpZiSu8RqYHOztpJYMIxG7lFajkjtr_MLtmDlnfZweKTbNhWdOe6MzP2ikVxHjZQNNtUJSLiwAZseSO0D7W3lUrxE0rU6ymh1Z-_pr0Ndwx80I6Ye2H-0_ZKdfe3zBZ0kpyD483i23JBdkbIJK_IpYyERAOD0AB_lkJ5eNfcPTpFp0JFXaGihS0lA&display_bands=4,2,1&display_scales=1,1,1&display_offsets=0,0,0\";\n",
       "\n",
       "            var proj = 'EPSG:4326';\n",
       "            var projInfo = {};\n",
       "\n",
       "            if ( proj !== 'EPSG:4326' ) {\n",
       "                var proj4def = projInfo[\"proj4\"];\n",
       "                proj4.defs(proj, proj4def);\n",
       "                var area = projInfo[\"area_of_use\"];\n",
       "                var bbox = [area[\"area_west_bound_lon\"], area[\"area_south_bound_lat\"],\n",
       "                            area[\"area_east_bound_lon\"], area[\"area_north_bound_lat\"]]\n",
       "                var projection = oljs.proj.get(proj);\n",
       "                var fromLonLat = oljs.proj.getTransform('EPSG:4326', projection);\n",
       "                var extent = oljs.extent.applyTransform(\n",
       "                    [bbox[0], bbox[1], bbox[2], bbox[3]], fromLonLat);\n",
       "                projection.setExtent(extent);\n",
       "            } else {\n",
       "                var projection = oljs.proj.get(proj);\n",
       "            }\n",
       "\n",
       "            var rda = new oljs.layer.Tile({\n",
       "              title: 'RDA',\n",
       "              opacity: 1,\n",
       "              extent: extents,\n",
       "              source: new oljs.source.TileImage({\n",
       "                      crossOrigin: null,\n",
       "                      projection: projection,\n",
       "                      extent: extents,\n",
       "\n",
       "                      tileGrid: new oljs.tilegrid.TileGrid({\n",
       "                          extent: extents,\n",
       "                          origin: [extents[0], extents[3]],\n",
       "                          resolutions: tileLayerResolutions,\n",
       "                          tileSize: [md.tileXSize, md.tileYSize],\n",
       "                      }),\n",
       "                      tileUrlFunction: function (coordinate) {\n",
       "                          if (coordinate === null) return undefined;\n",
       "                          const x = coordinate[1] + md.minTileX;\n",
       "                          const y = -(coordinate[2] + 1 - md.minTileY);\n",
       "                          if (x < md.minTileX || x > md.maxTileX) return undefined;\n",
       "                          if (y < md.minTileY || y > md.maxTileY) return undefined;\n",
       "                          return url.replace('{x}', x).replace('{y}', y);\n",
       "                      }\n",
       "                  })\n",
       "            });\n",
       "\n",
       "            var map = new oljs.Map({\n",
       "              layers: [ rda ],\n",
       "              target: 'map_1557165207',\n",
       "              view: new oljs.View({\n",
       "                projection: projection,\n",
       "                center: [49.874210568493794, 26.143441880070544],\n",
       "                zoom: 16\n",
       "              })\n",
       "            });\n",
       "        });\n",
       "    "
      ],
      "text/plain": [
       "<IPython.core.display.Javascript object>"
      ]
     },
     "metadata": {},
     "output_type": "display_data"
    }
   ],
   "source": [
    "landfill_image.preview()"
   ]
  },
  {
   "cell_type": "code",
   "execution_count": null,
   "metadata": {},
   "outputs": [],
   "source": []
  }
 ],
 "metadata": {
  "kernelspec": {
   "display_name": "Python 3",
   "language": "python",
   "name": "python3"
  },
  "language_info": {
   "codemirror_mode": {
    "name": "ipython",
    "version": 3
   },
   "file_extension": ".py",
   "mimetype": "text/x-python",
   "name": "python",
   "nbconvert_exporter": "python",
   "pygments_lexer": "ipython3",
   "version": "3.5.6"
  }
 },
 "nbformat": 4,
 "nbformat_minor": 2
}
