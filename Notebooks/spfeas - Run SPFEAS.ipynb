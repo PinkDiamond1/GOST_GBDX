{
 "cells": [
  {
   "cell_type": "markdown",
   "metadata": {},
   "source": [
    "# Spatial Features - Run Spatial Features\n",
    "\n",
    "Spatial features (spfeas) is a landcover classification tool focused on leveraging imagery textures for classifying landcover. It has been used in the World Bank for both quantifying informal housing and estimating poverty\n",
    "\n",
    "Running spatial features is a 5 part process:\n",
    "\n",
    "0. Setting up gbdx for spatial features\n",
    "1. Finding imagery\n",
    "2. **Running spfeas**\n",
    "    - **Checking spfeas results**\n",
    "3. Downloading results from AWS\n",
    "4. Stacking results\n",
    "5. Running classification\n",
    "\n",
    "### Running Spatial Features\n",
    "\n",
    "Link to spfeas GITHUB for further reading  - https://github.com/jgrss/spfeas"
   ]
  },
  {
   "cell_type": "code",
   "execution_count": 8,
   "metadata": {},
   "outputs": [],
   "source": [
    "# Define input datasets\n",
    "AOI = \"C:/Temp/inputAOI.shp\"\n",
    "spfeas_triggers = ['hog','lbpm','orb','seg','dmp','fourier','gabor','lac','mean','pantex','saliency','sfs','grad']\n",
    "imageDefinition = [\n",
    "    #catID, sensorType, spfeas_triggers\n",
    "    ['104001004828C700', \"WORLDVIEW03_VNIR\", spfeas_triggers],\n",
    "    ['10400100461E3600', \"WORLDVIEW03_VNIR\", spfeas_triggers],\n",
    "    ['1030010088D20100', \"WORLDVIEW02\", spfeas_triggers],\n",
    "    ['1040010043B94600', \"WORLDVIEW03_VNIR\", spfeas_triggers],\n",
    "    ]\n",
    "scales = '8 16 32'\n",
    "block = '8'\n",
    "saveImages = False #Set to true if you want to save the processed raw imagery to the S3 bucket\n",
    "baseFolder = \"Initials/AOIName\" #Set the folder for the output. Found at s3browser.geobigdata.io. ie - bps/Mauritania/Nouakchott\n",
    "outputFolder = \"C:/Temp/Addis\" #Used for evaluating spfeas results"
   ]
  },
  {
   "cell_type": "code",
   "execution_count": 9,
   "metadata": {},
   "outputs": [],
   "source": [
    "import sys, os, inspect\n",
    "import pandas as pd\n",
    "import geopandas as gpd\n",
    "\n",
    "from gbdxtools import Interface\n",
    "from gbdxtools import CatalogImage\n",
    "from shapely.geometry import box\n",
    "\n",
    "cmd_folder = os.path.dirname(os.getcwd())\n",
    "if cmd_folder not in sys.path:\n",
    "    sys.path.insert(0, cmd_folder)\n",
    "\n",
    "from GOST_GBDx_Tools import gbdxTasks\n",
    "from GOST_GBDx_Tools import gbdxURL_misc\n",
    "from GOST_GBDx_Tools import imagery_search\n",
    "\n",
    "#In order for the interface to be properly authenticated, follow instructions here:\n",
    "#   http://gbdxtools.readthedocs.io/en/latest/user_guide.html\n",
    "#   For Ben, the .gbdx-config file belongs in C:\\Users\\WB411133 (CAUSE no one else qill f%*$&ing tell you that)\n",
    "gbdx = Interface()\n",
    "gbdx.s3.info\n",
    "curTasks = gbdxTasks.GOSTTasks(gbdx)\n",
    "gbdxUrl = gbdxURL_misc.gbdxURL(gbdx)"
   ]
  },
  {
   "cell_type": "code",
   "execution_count": 4,
   "metadata": {},
   "outputs": [
    {
     "name": "stdout",
     "output_type": "stream",
     "text": [
      "[{'state': 'delivered', 'acquisition_id': '103001008951A400', 'location': 's3://receiving-dgcs-tdgplatform-com/059308859010_01_003'}]\n",
      "[{'state': 'delivered', 'acquisition_id': '1040010036917C00', 'location': 's3://receiving-dgcs-tdgplatform-com/058972576010_01_003'}]\n"
     ]
    }
   ],
   "source": [
    "# Make sure the selected image is in the S3 buckets. If any of the 'state' are not **delivered**, then wait a day and run again\n",
    "for img in imageDefinition:\n",
    "    catID = img[0]\n",
    "    print(gbdx.ordering.status(gbdx.ordering.order(catID)))"
   ]
  },
  {
   "cell_type": "code",
   "execution_count": null,
   "metadata": {},
   "outputs": [],
   "source": [
    "inS = gpd.read_file(AOI)\n",
    "inS = inS.to_crs({'init': u'epsg:4326'})\n",
    "inGeom = inS['geometry'][0]\n",
    "\n",
    "for curImg in imageDefinition:\n",
    "    catID = curImg[0]\n",
    "    sensor = curImg[1]\n",
    "    curTriggers = curImg[2]\n",
    "    \n",
    "    #Get the intersecting area with the current image\n",
    "    cImg = CatalogImage(catID)\n",
    "    b = cImg.bounds\n",
    "    bGeom = box(b[0], b[1], b[2], b[3])\n",
    "    inGeom = bGeom.intersection(inS.geometry[0])   \n",
    "    if inGeom.area > 0:\n",
    "        for cJob in curTriggers:\n",
    "            outFolder = \"%s/%s/spfeas/%s\" % (baseFolder, catID, cJob)\n",
    "            imageFolder = \"%s/%s/%s\" % (baseFolder, catID, \"clippedRaster\")\n",
    "            x = curTasks.createWorkflow(catID, str(inGeom.wkt), sensor, outFolder,\n",
    "                        runCarFinder = 0, runSpfeas = 1, spfeasLoop = 0, downloadImages = int(saveImages),\n",
    "                        aopPan=False, aopDra=False, aopAcomp=False, aopBands='PAN',\n",
    "                        spfeasParams={\"triggers\":'%s' % cJob,\"scales\":scales, \"block\":block, \n",
    "                            \"gdal_cache\":'1024', \"section_size\":'5000', \"n_jobs\":'1'}, \n",
    "                            inRaster = '')\n",
    "            id1 = x.execute()\n",
    "    else:\n",
    "        print(\"The selected image does not intersect the defined AOI\")"
   ]
  },
  {
   "cell_type": "code",
   "execution_count": 5,
   "metadata": {},
   "outputs": [],
   "source": [
    "#This line of code monitors your GBDx workflows\n",
    "xx = gbdxUrl.monitorWorkflows(sleepTime=60)"
   ]
  },
  {
   "cell_type": "code",
   "execution_count": 6,
   "metadata": {},
   "outputs": [
    {
     "data": {
      "text/plain": [
       "{'FAILED': {}, 'SUCCEEDED': {}}"
      ]
     },
     "execution_count": 6,
     "metadata": {},
     "output_type": "execute_result"
    }
   ],
   "source": [
    "xx"
   ]
  },
  {
   "cell_type": "markdown",
   "metadata": {},
   "source": [
    "# Checking SPFEAS results\n",
    "There are often errors in processing spfeas, some are legitimate, some are random errors. The code below will generate a summary of the spfeas processing"
   ]
  },
  {
   "cell_type": "code",
   "execution_count": null,
   "metadata": {},
   "outputs": [],
   "source": [
    "location = r's3://gbd-customer-data/1c080e9c-02cc-4e2e-a8a2-bf05b8369eee/%s/' % baseFolder\n",
    "spFile = os.path.join(outputFolder, \"s3Contents_all.txt\")\n",
    "logging.basicConfig(level=logging.INFO)\n",
    "\n",
    "# New version\n",
    "if not os.path.exists(spFile):\n",
    "    xx = gbdxUrl.listS3Contents(location, outFile=spFile, recursive=True)    \n",
    "    gbdxUrl.executeAWS_file(xx, \"C:/temp/s3Contents.bat\")\n",
    "\n",
    "#Open the outputFile and find all the yaml files\n",
    "allYaml = []\n",
    "with open(spFile, 'r') as inFile:\n",
    "    for line in inFile:\n",
    "        splitFolder = line.split(\" \")\n",
    "        cFile = splitFolder[-1].replace(\"\\n\", \"\")\n",
    "        if cFile[-4:] == 'yaml':\n",
    "            allYaml.append(cFile)\n",
    "\n",
    "#Download the yaml files\n",
    "for cYaml in allYaml:\n",
    "    outYaml = os.path.join(outputFolder, os.path.basename(cYaml))\n",
    "    cYaml = os.path.join(\"s3://gbd-customer-data/\", cYaml)\n",
    "    #if not os.path.exists(outYaml):\n",
    "    xx = gbdxUrl.downloadS3Contents(cYaml, outYaml, recursive=False)\n",
    "    gbdxUrl.executeAWS_file(xx, \"C:/temp/s3Execution.bat\")    \n",
    "\n",
    "#Process the yaml files\n",
    "curData = {}\n",
    "for cYaml in allYaml:\n",
    "    nameSplit = cYaml.split(\"/\")\n",
    "    if not len(nameSplit[-3]) > 8:\n",
    "        outYaml = os.path.join(outputFolder, os.path.basename(cYaml))\n",
    "        try:\n",
    "            with open(outYaml, 'r') as yamlContents:\n",
    "                yamlRes = yaml.load(yamlContents)\n",
    "            #curData.append([nameSplit[-5], nameSplit[-3], yamlRes['ALL_FINISHED']])\n",
    "            curRes = {nameSplit[-3]:yamlRes['ALL_FINISHED']}\n",
    "            try:\n",
    "                curData[nameSplit[-5]] = {**curData[nameSplit[-5]], **curRes}\n",
    "            except:\n",
    "                curData[nameSplit[-5]] = curRes\n",
    "        except:\n",
    "            print(\"Could not process %s\" % cYaml)\n",
    "\n",
    "finalPD = pd.DataFrame(curData)#, columns=[\"CAT_ID\", \"spfeas\", \"Finished\"])\n",
    "finalPD.to_csv(\"C:/temp/spfeasCheck.csv\")    "
   ]
  }
 ],
 "metadata": {
  "kernelspec": {
   "display_name": "Python 3",
   "language": "python",
   "name": "python3"
  },
  "language_info": {
   "codemirror_mode": {
    "name": "ipython",
    "version": 3
   },
   "file_extension": ".py",
   "mimetype": "text/x-python",
   "name": "python",
   "nbconvert_exporter": "python",
   "pygments_lexer": "ipython3",
   "version": "3.5.6"
  }
 },
 "nbformat": 4,
 "nbformat_minor": 2
}
