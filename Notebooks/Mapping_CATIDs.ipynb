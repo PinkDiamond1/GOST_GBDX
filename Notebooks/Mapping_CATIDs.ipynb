{
 "cells": [
  {
   "cell_type": "code",
   "execution_count": 1,
   "metadata": {},
   "outputs": [],
   "source": [
    "import sys, os, inspect, importlib\n",
    "import pandas as pd\n",
    "import geopandas as gpd\n",
    "\n",
    "from gbdxtools import Interface\n",
    "from gbdxtools import CatalogImage\n",
    "from shapely.geometry import box\n",
    "from shapely.wkt import loads\n",
    "\n",
    "cmd_folder = os.path.dirname(os.getcwd())\n",
    "if cmd_folder not in sys.path:\n",
    "    sys.path.insert(0, cmd_folder)\n",
    "\n",
    "from GOST_GBDx_Tools import gbdxTasks\n",
    "from GOST_GBDx_Tools import gbdxURL_misc\n",
    "from GOST_GBDx_Tools import imagery_search\n",
    "\n",
    "#In order for the interface to be properly authenticated, follow instructions here:\n",
    "#   http://gbdxtools.readthedocs.io/en/latest/user_guide.html\n",
    "#   For Ben, the .gbdx-config file belongs in C:\\Users\\WB411133 (CAUSE no one else qill f%*$&ing tell you that)\n",
    "gbdx = Interface()\n",
    "gbdx.s3.info\n",
    "curTasks = gbdxTasks.GOSTTasks(gbdx)\n",
    "gbdxUrl = gbdxURL_misc.gbdxURL(gbdx)\n"
   ]
  },
  {
   "cell_type": "code",
   "execution_count": 9,
   "metadata": {},
   "outputs": [
    {
     "name": "stdout",
     "output_type": "stream",
     "text": [
      "Could not find a catalog entry for the given id: 1040010046439700\n",
      "Could not find a catalog entry for the given id: 1040010032832500\n",
      "Could not find a catalog entry for the given id: 1040010047561800\n",
      "Could not find a catalog entry for the given id: 10400100183B2900\n",
      "Could not find a catalog entry for the given id: 104001002DA46D00\n"
     ]
    }
   ],
   "source": [
    "catIDs = [\"1040010046439700\",\"1040010032832500\",\"1040010047561800\",\"10400100183B2900\",\"104001002DA46D00\"]\n",
    "for cID in catIDs:\n",
    "    try:\n",
    "        xx = CatalogImage(cID)\n",
    "        xx.metadata\n",
    "    except Exception as e:\n",
    "        print(e)"
   ]
  },
  {
   "cell_type": "code",
   "execution_count": 29,
   "metadata": {},
   "outputs": [],
   "source": [
    "inputFile = r\"C:/Work/Code/catIDs.txt\"\n",
    "\n",
    "catIDs = []\n",
    "with open(inputFile, 'r') as inFile:\n",
    "    for line in inFile:\n",
    "        try:\n",
    "            xx = int(line[:5])\n",
    "            catIDs.append(line.replace(\"\\n\", \"\"))\n",
    "        except:\n",
    "            pass   "
   ]
  },
  {
   "cell_type": "code",
   "execution_count": 32,
   "metadata": {},
   "outputs": [
    {
     "name": "stderr",
     "output_type": "stream",
     "text": [
      "C:\\WBG\\Anaconda\\envs\\gbdxtools\\lib\\site-packages\\gbdxtools\\images\\worldview.py:68: UserWarning: Unknown dtype\n",
      "  warnings.warn('Unknown dtype')\n"
     ]
    }
   ],
   "source": [
    "def generateInfo(catID):\n",
    "    \"\"\"return array with important information from catID\"\"\"\n",
    "    img = CatalogImage(catID)\n",
    "    retVals = [catID, loads(img.metadata['image']['imageBoundsWGS84'])]\n",
    "    for val in ['sensorPlatformName', \"acquisitionDate\",'satAzimuth','satElevation','cloudCover']:\n",
    "        retVals.append(img.metadata['image'][val])    \n",
    "    return(retVals)\n",
    "\n",
    "allVals = []\n",
    "for cID in catIDs:\n",
    "    allVals.append(generateInfo(str(cID)))"
   ]
  },
  {
   "cell_type": "code",
   "execution_count": 34,
   "metadata": {},
   "outputs": [],
   "source": [
    "allRes = pd.DataFrame(allVals, columns=['catID','geometry','sensorPlatformName', \"acquisitionDate\",'satAzimuth','satElevation','cloudCover'])\n",
    "#allRes_G = gpd.GeoDataFrame(allVals, geometry='geometry')"
   ]
  },
  {
   "cell_type": "code",
   "execution_count": 36,
   "metadata": {},
   "outputs": [],
   "source": [
    "allRes.to_csv(inputFile.replace(\".txt\",\"_MAPPED.csv\"))\n",
    "\n"
   ]
  },
  {
   "cell_type": "code",
   "execution_count": null,
   "metadata": {},
   "outputs": [],
   "source": []
  }
 ],
 "metadata": {
  "kernelspec": {
   "display_name": "Python (gost)",
   "language": "python",
   "name": "gost"
  },
  "language_info": {
   "codemirror_mode": {
    "name": "ipython",
    "version": 3
   },
   "file_extension": ".py",
   "mimetype": "text/x-python",
   "name": "python",
   "nbconvert_exporter": "python",
   "pygments_lexer": "ipython3",
   "version": "3.7.1"
  }
 },
 "nbformat": 4,
 "nbformat_minor": 2
}
