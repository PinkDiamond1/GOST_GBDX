{
 "cells": [
  {
   "cell_type": "markdown",
   "metadata": {},
   "source": [
    "# Spatial Features - Stack spfeas results\n",
    "Spatial features (spfeas) is a landcover classification tool focused on leveraging imagery textures for classifying landcover. It has been used in the World Bank for both quantifying informal housing and estimating poverty\n",
    "\n",
    "Running spatial features is a 5 part process:\n",
    "\n",
    "0. Setting up gbdx for spatial features\n",
    "1. Finding imagery\n",
    "2. Runnning spfeas\n",
    "3. Downloading results from AWS\n",
    "4. **Stacking results**\n",
    "5. Running classification\n",
    "\n",
    "The results downloaded from AWS have each separate trigger in a different folder. This script stacks the tiled results, and attaches more bands - the NDSV (https://ieeexplore.ieee.org/abstract/document/6587128) and mean spectral values"
   ]
  },
  {
   "cell_type": "code",
   "execution_count": null,
   "metadata": {},
   "outputs": [],
   "source": [
    "selCatIDs = []\n",
    "baseFolder = \"D:\\Addis\\spfeas\""
   ]
  },
  {
   "cell_type": "code",
   "execution_count": null,
   "metadata": {},
   "outputs": [],
   "source": [
    "import sys, os, inspect, logging\n",
    "\n",
    "logging.basicConfig(level=logging.INFO)\n",
    "\n",
    "cmd_folder = os.path.realpath(os.path.abspath(os.path.split(inspect.getfile( inspect.currentframe() ))[0]))\n",
    "if cmd_folder not in sys.path:\n",
    "    sys.path.insert(0, cmd_folder)\n",
    "\n",
    "from GOST_GBDx_Tools import spfeas_results\n",
    "\n",
    "for catID in selCatIDs:\n",
    "    spfeasFolder  = r\"%s\\%s\" % (baseFolder, catID)\n",
    "    curSpfeas = spfeas_results.processLoopedSpfeas(spfeasFolder)\n",
    "    curSpfeas.combineLoopedResults()\n",
    "    xx = curSpfeas.attachRGB_NDSV_Bands(catID)\n",
    "    for x in xx:\n",
    "        os.remove(x)\n",
    "    curSpfeas.buildVRT()          "
   ]
  }
 ],
 "metadata": {
  "kernelspec": {
   "display_name": "Python 3",
   "language": "python",
   "name": "python3"
  },
  "language_info": {
   "codemirror_mode": {
    "name": "ipython",
    "version": 3
   },
   "file_extension": ".py",
   "mimetype": "text/x-python",
   "name": "python",
   "nbconvert_exporter": "python",
   "pygments_lexer": "ipython3",
   "version": "3.5.6"
  }
 },
 "nbformat": 4,
 "nbformat_minor": 2
}
