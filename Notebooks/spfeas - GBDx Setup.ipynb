{
 "cells": [
  {
   "cell_type": "markdown",
   "metadata": {},
   "source": [
    "# Spatial Features - Setup\n",
    "Spatial features (spfeas) is a landcover classification tool focused on leveraging imagery textures for classifying landcover. It has been used in the World Bank for both quantifying informal housing and estimating poverty\n",
    "\n",
    "Running spatial features is a 5 part process:\n",
    "\n",
    "0. **Setting up gbdx for spatial features**\n",
    "1. Finding imagery\n",
    "2. Runnning spfeas\n",
    "3. Downloading results from AWS\n",
    "4. Stacking results\n",
    "5. Running classification"
   ]
  },
  {
   "cell_type": "code",
   "execution_count": 1,
   "metadata": {},
   "outputs": [],
   "source": [
    "import sys, os, inspect\n",
    "import awscli\n",
    "import pandas as pd\n",
    "import geopandas as gpd\n",
    "\n",
    "from gbdxtools import Interface\n",
    "from gbdxtools import CatalogImage\n",
    "from shapely.geometry import box\n",
    "\n",
    "cmd_folder = os.path.dirname(os.getcwd())\n",
    "if cmd_folder not in sys.path:\n",
    "    sys.path.insert(0, cmd_folder)\n",
    "\n",
    "from GOST_GBDx_Tools import gbdxTasks\n",
    "from GOST_GBDx_Tools import gbdxURL_misc\n",
    "\n",
    "#In order for the interface to be properly authenticated, follow instructions here:\n",
    "#   http://gbdxtools.readthedocs.io/en/latest/user_guide.html\n",
    "#   For Ben, the .gbdx-config file belongs in C:\\Users\\WB411133 (CAUSE no one else qill f%*$&ing tell you that)\n",
    "gbdx = Interface()\n",
    "gbdx.s3.info\n",
    "curTasks = gbdxTasks.GOSTTasks(gbdx)\n",
    "gbdxUrl = gbdxURL_misc.gbdxURL(gbdx)\n"
   ]
  },
  {
   "cell_type": "code",
   "execution_count": null,
   "metadata": {},
   "outputs": [],
   "source": []
  }
 ],
 "metadata": {
  "kernelspec": {
   "display_name": "Python 3",
   "language": "python",
   "name": "python3"
  },
  "language_info": {
   "codemirror_mode": {
    "name": "ipython",
    "version": 3
   },
   "file_extension": ".py",
   "mimetype": "text/x-python",
   "name": "python",
   "nbconvert_exporter": "python",
   "pygments_lexer": "ipython3",
   "version": "3.5.6"
  }
 },
 "nbformat": 4,
 "nbformat_minor": 2
}
